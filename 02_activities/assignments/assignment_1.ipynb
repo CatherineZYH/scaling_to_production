{
 "cells": [
  {
   "cell_type": "markdown",
   "metadata": {},
   "source": [
    "# Working with parquet files\n",
    "\n",
    "## Objective\n",
    "\n",
    "+ In this assignment, we will use the data downloaded with the module `data_manager` to create features.\n",
    "\n",
    "(11 pts total)\n",
    "\n",
    "## Prerequisites\n",
    "\n",
    "+ This notebook assumes that price data is available to you in the environment variable `PRICE_DATA`. If you have not done so, then execute the notebook `production_2_data_engineering.ipynb` to create this data set.\n"
   ]
  },
  {
   "cell_type": "markdown",
   "metadata": {},
   "source": [
    "+ Load the environment variables using dotenv. (1 pt)"
   ]
  },
  {
   "cell_type": "code",
   "execution_count": 9,
   "metadata": {},
   "outputs": [
    {
     "name": "stdout",
     "output_type": "stream",
     "text": [
      "PRICE_DATA ../../05_src/data/prices/\n"
     ]
    }
   ],
   "source": [
    "from dotenv import load_dotenv\n",
    "import os\n",
    "load_dotenv()\n",
    "price_data_dir = os.getenv('PRICE_DATA')\n",
    "print(\"PRICE_DATA\", price_data_dir)"
   ]
  },
  {
   "cell_type": "code",
   "execution_count": 10,
   "metadata": {},
   "outputs": [],
   "source": [
    "import dask\n",
    "dask.config.set({'dataframe.query-planning': True})\n",
    "import dask.dataframe as dd"
   ]
  },
  {
   "cell_type": "markdown",
   "metadata": {},
   "source": [
    "+ Load the environment variable `PRICE_DATA`.\n",
    "+ Use [glob](https://docs.python.org/3/library/glob.html) to find the path of all parquet files in the directory `PRICE_DATA`.\n",
    "\n",
    "(1pt)"
   ]
  },
  {
   "cell_type": "code",
   "execution_count": 11,
   "metadata": {},
   "outputs": [
    {
     "name": "stdout",
     "output_type": "stream",
     "text": [
      "Index(['Date', 'Open', 'High', 'Low', 'Close', 'Adj Close', 'Volume', 'sector',\n",
      "       'subsector', 'year'],\n",
      "      dtype='object')\n"
     ]
    }
   ],
   "source": [
    "import os\n",
    "from glob import glob\n",
    "\n",
    "parquet_files = glob(os.path.join(price_data_dir, \"**/*.parquet/*.parquet\"))\n",
    "dd_px=dd.read_parquet(parquet_files).set_index(\"ticker\")\n",
    "print(dd_px.columns)"
   ]
  },
  {
   "cell_type": "markdown",
   "metadata": {},
   "source": [
    "For each ticker and using Dask, do the following:\n",
    "\n",
    "+ Add lags for variables Close and Adj_Close.\n",
    "+ Add returns based on Adjusted Close:\n",
    "    \n",
    "    - `returns`: (Adj Close / Adj Close_lag) - 1\n",
    "\n",
    "+ Add the following range: \n",
    "\n",
    "    - `hi_lo_range`: this is the day's High minus Low.\n",
    "\n",
    "+ Assign the result to `dd_feat`.\n",
    "\n",
    "(4 pt)"
   ]
  },
  {
   "cell_type": "code",
   "execution_count": 12,
   "metadata": {},
   "outputs": [
    {
     "name": "stderr",
     "output_type": "stream",
     "text": [
      "C:\\Users\\daoda\\AppData\\Local\\Temp\\ipykernel_31392\\1877060989.py:4: UserWarning: `meta` is not specified, inferred from partial data. Please provide `meta` if the result is unexpected.\n",
      "  Before: .apply(func)\n",
      "  After:  .apply(func, meta={'x': 'f8', 'y': 'f8'}) for dataframe result\n",
      "  or:     .apply(func, meta=('x', 'f8'))            for series result\n",
      "  dd_feat = (dd_px.groupby('ticker', group_keys=False).apply(\n"
     ]
    }
   ],
   "source": [
    "import numpy as np\n",
    "from dask.dataframe import rolling\n",
    "\n",
    "dd_feat = (dd_px.groupby('ticker', group_keys=False).apply(\n",
    "    lambda x: x.assign(Close_lag = x['Close'].shift(1),\n",
    "                       Adj_close_lag = x['Adj Close'].shift(1))\n",
    ").assign(\n",
    "    returns = lambda x: x['Adj Close']/x['Adj_close_lag'] - 1\n",
    ").assign(\n",
    "    hi_to_range = lambda x: x['High'] -x ['Low']\n",
    "))"
   ]
  },
  {
   "cell_type": "markdown",
   "metadata": {},
   "source": [
    "+ Convert the Dask data frame to a pandas data frame. \n",
    "+ Add a rolling average return calculation with a window of 10 days.\n",
    "+ *Tip*: Consider using `.rolling(10).mean()`.\n",
    "\n",
    "(3 pt)"
   ]
  },
  {
   "cell_type": "code",
   "execution_count": 13,
   "metadata": {},
   "outputs": [
    {
     "name": "stdout",
     "output_type": "stream",
     "text": [
      "             Date       Open       High        Low      Close  Adj Close  \\\n",
      "ticker                                                                     \n",
      "OXY    2004-01-02  20.191145  20.382757  20.095339  20.138451  11.842054   \n",
      "OXY    2004-01-05  20.358805  20.933641  20.334854  20.933641  12.309657   \n",
      "OXY    2004-01-06  20.933641  20.933641  20.612692  20.722870  12.185718   \n",
      "OXY    2004-01-07  20.722870  20.722870  20.286951  20.492933  12.050504   \n",
      "OXY    2004-01-08  20.670176  20.684546  20.502514  20.651014  12.143458   \n",
      "\n",
      "         Volume  sector                           subsector  year  Close_lag  \\\n",
      "ticker                                                                         \n",
      "OXY     4034814  Energy  Oil & Gas Exploration & Production  2004        NaN   \n",
      "OXY     4055690  Energy  Oil & Gas Exploration & Production  2004  20.138451   \n",
      "OXY     3941501  Energy  Oil & Gas Exploration & Production  2004  20.933641   \n",
      "OXY     2708803  Energy  Oil & Gas Exploration & Production  2004  20.722870   \n",
      "OXY     2514035  Energy  Oil & Gas Exploration & Production  2004  20.492933   \n",
      "\n",
      "        Adj_close_lag   returns  hi_to_range  \n",
      "ticker                                        \n",
      "OXY               NaN       NaN     0.287418  \n",
      "OXY         11.842054  0.039487     0.598787  \n",
      "OXY         12.309657 -0.010068     0.320950  \n",
      "OXY         12.185718 -0.011096     0.435919  \n",
      "OXY         12.050504  0.007714     0.182032  \n",
      "             Date       Open       High        Low      Close  Adj Close  \\\n",
      "ticker                                                                     \n",
      "OXY    2004-01-02  20.191145  20.382757  20.095339  20.138451  11.842054   \n",
      "OXY    2004-01-05  20.358805  20.933641  20.334854  20.933641  12.309657   \n",
      "OXY    2004-01-06  20.933641  20.933641  20.612692  20.722870  12.185718   \n",
      "OXY    2004-01-07  20.722870  20.722870  20.286951  20.492933  12.050504   \n",
      "OXY    2004-01-08  20.670176  20.684546  20.502514  20.651014  12.143458   \n",
      "\n",
      "         Volume  sector                           subsector  year  Close_lag  \\\n",
      "ticker                                                                         \n",
      "OXY     4034814  Energy  Oil & Gas Exploration & Production  2004        NaN   \n",
      "OXY     4055690  Energy  Oil & Gas Exploration & Production  2004  20.138451   \n",
      "OXY     3941501  Energy  Oil & Gas Exploration & Production  2004  20.933641   \n",
      "OXY     2708803  Energy  Oil & Gas Exploration & Production  2004  20.722870   \n",
      "OXY     2514035  Energy  Oil & Gas Exploration & Production  2004  20.492933   \n",
      "\n",
      "        Adj_close_lag   returns  hi_to_range  rolling_avg_return  \n",
      "ticker                                                            \n",
      "OXY               NaN       NaN     0.287418                 NaN  \n",
      "OXY         11.842054  0.039487     0.598787                 NaN  \n",
      "OXY         12.309657 -0.010068     0.320950                 NaN  \n",
      "OXY         12.185718 -0.011096     0.435919                 NaN  \n",
      "OXY         12.050504  0.007714     0.182032                 NaN  \n"
     ]
    }
   ],
   "source": [
    "pdf = dd_feat.compute()\n",
    "print(pdf.head())\n",
    "\n",
    "pdf['rolling_avg_return'] = pdf['returns'].rolling(10).mean()\n",
    "print(pdf.head())"
   ]
  },
  {
   "cell_type": "markdown",
   "metadata": {},
   "source": [
    "Please comment:\n",
    "\n",
    "+ Was it necessary to convert to pandas to calculate the moving average return?\n",
    "+ Would it have been better to do it in Dask? Why?\n",
    "\n",
    "(1 pt)"
   ]
  },
  {
   "cell_type": "markdown",
   "metadata": {},
   "source": [
    "No, it was not necessary to convert to pandas to calculate the moving average return. Dask has support for rolling window operations which can be used to calculate moving averages.\n",
    "Yes, it is better to do it in Dask, because Dask is designed to handle larger-than-memory datasets by parallelizing operations and distributing computation. Using Dask for rolling operations would allow us to take advantage of this parallelism and potentially reduce memory usage and computation time."
   ]
  },
  {
   "cell_type": "markdown",
   "metadata": {},
   "source": [
    "## Criteria\n",
    "\n",
    "|Criteria|Complete|Incomplete|\n",
    "|---------------------|----|----|\n",
    "|Calculations         |Calculations were done correctly.|Calculations were not done correctly.|\n",
    "|Explanation of answer|Answer was concise and explained the learner's reasoning in depth.|Answer was not concise and did not explained the learner's reasoning in depth.|"
   ]
  },
  {
   "cell_type": "markdown",
   "metadata": {},
   "source": [
    "## Submission Information\n",
    "\n",
    "🚨 **Please review our [Assignment Submission Guide](https://github.com/UofT-DSI/onboarding/blob/main/onboarding_documents/submissions.md)** 🚨 for detailed instructions on how to format, branch, and submit your work. Following these guidelines is crucial for your submissions to be evaluated correctly.\n",
    "\n",
    "### Submission Parameters:\n",
    "* Submission Due Date: `HH:MM AM/PM - DD/MM/YYYY`\n",
    "* The branch name for your repo should be: `assignment-1`\n",
    "* What to submit for this assignment:\n",
    "    * This Jupyter Notebook (assignment_1.ipynb) should be populated and should be the only change in your pull request.\n",
    "* What the pull request link should look like for this assignment: `https://github.com/<your_github_username>/production/pull/<pr_id>`\n",
    "    * Open a private window in your browser. Copy and paste the link to your pull request into the address bar. Make sure you can see your pull request properly. This helps the technical facilitator and learning support staff review your submission easily.\n",
    "\n",
    "Checklist:\n",
    "- [ ] Created a branch with the correct naming convention.\n",
    "- [ ] Ensured that the repository is public.\n",
    "- [ ] Reviewed the PR description guidelines and adhered to them.\n",
    "- [ ] Verify that the link is accessible in a private browser window.\n",
    "\n",
    "If you encounter any difficulties or have questions, please don't hesitate to reach out to our team via our Slack at `#cohort-3-help`. Our Technical Facilitators and Learning Support staff are here to help you navigate any challenges."
   ]
  }
 ],
 "metadata": {
  "kernelspec": {
   "display_name": "env",
   "language": "python",
   "name": "python3"
  },
  "language_info": {
   "codemirror_mode": {
    "name": "ipython",
    "version": 3
   },
   "file_extension": ".py",
   "mimetype": "text/x-python",
   "name": "python",
   "nbconvert_exporter": "python",
   "pygments_lexer": "ipython3",
   "version": "3.9.15"
  }
 },
 "nbformat": 4,
 "nbformat_minor": 2
}
